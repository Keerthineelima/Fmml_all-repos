{
  "cells": [
    {
      "cell_type": "markdown",
      "metadata": {
        "id": "view-in-github",
        "colab_type": "text"
      },
      "source": [
        "<a href=\"https://colab.research.google.com/github/Keerthineelima/Fmml_all-repos/blob/main/FMML_M1L2.ipynb\" target=\"_parent\"><img src=\"https://colab.research.google.com/assets/colab-badge.svg\" alt=\"Open In Colab\"/></a>"
      ]
    },
    {
      "cell_type": "markdown",
      "metadata": {
        "id": "3Eu9VZbF01eq"
      },
      "source": [
        "# Machine Learning terms and metrics\n",
        "\n",
        "FMML Module 1, Lab 2\n",
        "\n",
        "In this lab, we will show a part of the ML pipeline by using the California Housing dataset. There are 20640 samples, each with 8 attributes like income of the block, age of the houses per district etc. The task is to predict the cost of the houses per district. We will use the scikit-learn library to load the data and perform some basic data preprocessing and model training. We will also show how to evaluate the model using some common metrics, split the data into training and testing sets, and use cross-validation to get a better estimate of the model's performance."
      ]
    },
    {
      "cell_type": "code",
      "execution_count": 1,
      "metadata": {
        "id": "8qBvyEem0vLi"
      },
      "outputs": [],
      "source": [
        "import numpy as np\n",
        "from sklearn import datasets\n",
        "import matplotlib.pyplot as plt\n",
        "\n",
        "rng = np.random.default_rng(seed=42)"
      ]
    },
    {
      "cell_type": "code",
      "execution_count": 2,
      "metadata": {
        "colab": {
          "base_uri": "https://localhost:8080/"
        },
        "id": "8LpqjN991GGJ",
        "outputId": "fc604732-9f28-4d91-f3cd-52254c7bf08d"
      },
      "outputs": [
        {
          "output_type": "stream",
          "name": "stdout",
          "text": [
            ".. _california_housing_dataset:\n",
            "\n",
            "California Housing dataset\n",
            "--------------------------\n",
            "\n",
            "**Data Set Characteristics:**\n",
            "\n",
            ":Number of Instances: 20640\n",
            "\n",
            ":Number of Attributes: 8 numeric, predictive attributes and the target\n",
            "\n",
            ":Attribute Information:\n",
            "    - MedInc        median income in block group\n",
            "    - HouseAge      median house age in block group\n",
            "    - AveRooms      average number of rooms per household\n",
            "    - AveBedrms     average number of bedrooms per household\n",
            "    - Population    block group population\n",
            "    - AveOccup      average number of household members\n",
            "    - Latitude      block group latitude\n",
            "    - Longitude     block group longitude\n",
            "\n",
            ":Missing Attribute Values: None\n",
            "\n",
            "This dataset was obtained from the StatLib repository.\n",
            "https://www.dcc.fc.up.pt/~ltorgo/Regression/cal_housing.html\n",
            "\n",
            "The target variable is the median house value for California districts,\n",
            "expressed in hundreds of thousands of dollars ($100,000).\n",
            "\n",
            "This dataset was derived from the 1990 U.S. census, using one row per census\n",
            "block group. A block group is the smallest geographical unit for which the U.S.\n",
            "Census Bureau publishes sample data (a block group typically has a population\n",
            "of 600 to 3,000 people).\n",
            "\n",
            "A household is a group of people residing within a home. Since the average\n",
            "number of rooms and bedrooms in this dataset are provided per household, these\n",
            "columns may take surprisingly large values for block groups with few households\n",
            "and many empty houses, such as vacation resorts.\n",
            "\n",
            "It can be downloaded/loaded using the\n",
            ":func:`sklearn.datasets.fetch_california_housing` function.\n",
            "\n",
            ".. rubric:: References\n",
            "\n",
            "- Pace, R. Kelley and Ronald Barry, Sparse Spatial Autoregressions,\n",
            "  Statistics and Probability Letters, 33 (1997) 291-297\n",
            "\n"
          ]
        }
      ],
      "source": [
        "dataset = datasets.fetch_california_housing()\n",
        "# Dataset description\n",
        "print(dataset.DESCR)"
      ]
    },
    {
      "cell_type": "markdown",
      "metadata": {
        "id": "PCe1VNftevgE"
      },
      "source": [
        "Given below are the list of target values. These correspond to the house value derived considering all the 8 input features and are continuous values. We should use regression models to predict these values but we will start with a simple classification model for the sake of simplicity. We need to just round off the values to the nearest integer and use a classification model to predict the house value."
      ]
    },
    {
      "cell_type": "code",
      "execution_count": 3,
      "metadata": {
        "colab": {
          "base_uri": "https://localhost:8080/"
        },
        "id": "F8K0ggBOevgE",
        "outputId": "3edbc9ee-f019-4f51-c0f7-0fa54c75ec8d"
      },
      "outputs": [
        {
          "output_type": "stream",
          "name": "stdout",
          "text": [
            "Orignal target values: [4.526 3.585 3.521 ... 0.923 0.847 0.894]\n",
            "Target values after conversion: [4 3 3 ... 0 0 0]\n",
            "Input variables shape: (20640, 8)\n",
            "Output variables shape: (20640,)\n"
          ]
        }
      ],
      "source": [
        "print(\"Orignal target values:\", dataset.target)\n",
        "\n",
        "dataset.target = dataset.target.astype(int)\n",
        "\n",
        "print(\"Target values after conversion:\", dataset.target)\n",
        "print(\"Input variables shape:\", dataset.data.shape)\n",
        "print(\"Output variables shape:\", dataset.target.shape)"
      ]
    },
    {
      "cell_type": "markdown",
      "metadata": {
        "id": "iNx4174W5xRg"
      },
      "source": [
        "The simplest model to use for classification is the K-Nearest Neighbors model. We will use this model to predict the house value with a K value of 1. We will also use the accuracy metric to evaluate the model."
      ]
    },
    {
      "cell_type": "code",
      "execution_count": 4,
      "metadata": {
        "id": "07zpydQj1hIQ"
      },
      "outputs": [],
      "source": [
        "def NN1(traindata, trainlabel, query):\n",
        "    \"\"\"\n",
        "    This function takes in the training data, training labels and a query point\n",
        "    and returns the predicted label for the query point using the nearest neighbour algorithm\n",
        "\n",
        "    traindata: numpy array of shape (n,d) where n is the number of samples and d is the number of features\n",
        "    trainlabel: numpy array of shape (n,) where n is the number of samples\n",
        "    query: numpy array of shape (d,) where d is the number of features\n",
        "\n",
        "    returns: the predicted label for the query point which is the label of the training data which is closest to the query point\n",
        "    \"\"\"\n",
        "    diff = (\n",
        "        traindata - query\n",
        "    )  # find the difference between features. Numpy automatically takes care of the size here\n",
        "    sq = diff * diff  # square the differences\n",
        "    dist = sq.sum(1)  # add up the squares\n",
        "    label = trainlabel[np.argmin(dist)]\n",
        "    return label\n",
        "\n",
        "\n",
        "def NN(traindata, trainlabel, testdata):\n",
        "    \"\"\"\n",
        "    This function takes in the training data, training labels and test data\n",
        "    and returns the predicted labels for the test data using the nearest neighbour algorithm\n",
        "\n",
        "    traindata: numpy array of shape (n,d) where n is the number of samples and d is the number of features\n",
        "    trainlabel: numpy array of shape (n,) where n is the number of samples\n",
        "    testdata: numpy array of shape (m,d) where m is the number of test samples and d is the number of features\n",
        "\n",
        "    returns: the predicted labels for the test data which is the label of the training data which is closest to each test point\n",
        "    \"\"\"\n",
        "    predlabel = np.array([NN1(traindata, trainlabel, i) for i in testdata])\n",
        "    return predlabel"
      ]
    },
    {
      "cell_type": "markdown",
      "metadata": {
        "id": "03JktkfIGaje"
      },
      "source": [
        "We will also define a 'random classifier', which randomly allots labels to each sample"
      ]
    },
    {
      "cell_type": "code",
      "execution_count": 5,
      "metadata": {
        "id": "fogWAtjyGhAH"
      },
      "outputs": [],
      "source": [
        "def RandomClassifier(traindata, trainlabel, testdata):\n",
        "    \"\"\"\n",
        "    This function takes in the training data, training labels and test data\n",
        "    and returns the predicted labels for the test data using the random classifier algorithm\n",
        "\n",
        "    In reality, we don't need these arguments but we are passing them to keep the function signature consistent with other classifiers\n",
        "\n",
        "    traindata: numpy array of shape (n,d) where n is the number of samples and d is the number of features\n",
        "    trainlabel: numpy array of shape (n,) where n is the number of samples\n",
        "    testdata: numpy array of shape (m,d) where m is the number of test samples and d is the number of features\n",
        "\n",
        "    returns: the predicted labels for the test data which is a random label from the training data\n",
        "    \"\"\"\n",
        "\n",
        "    classes = np.unique(trainlabel)\n",
        "    rints = rng.integers(low=0, high=len(classes), size=len(testdata))\n",
        "    predlabel = classes[rints]\n",
        "    return predlabel"
      ]
    },
    {
      "cell_type": "markdown",
      "metadata": {
        "id": "1Hjf1KHs7fU5"
      },
      "source": [
        "We need a metric to evaluate the performance of the model. Let us define a metric 'Accuracy' to see how good our learning algorithm is. Accuracy is the ratio of the number of correctly classified samples to the total number of samples. The higher the accuracy, the better the algorithm. We will use the accuracy metric to evaluate and compate the performance of the K-Nearest Neighbors model and the random classifier."
      ]
    },
    {
      "cell_type": "code",
      "execution_count": 6,
      "metadata": {
        "id": "ouuCqWU07bz-"
      },
      "outputs": [],
      "source": [
        "def Accuracy(gtlabel, predlabel):\n",
        "    \"\"\"\n",
        "    This function takes in the ground-truth labels and predicted labels\n",
        "    and returns the accuracy of the classifier\n",
        "\n",
        "    gtlabel: numpy array of shape (n,) where n is the number of samples\n",
        "    predlabel: numpy array of shape (n,) where n is the number of samples\n",
        "\n",
        "    returns: the accuracy of the classifier which is the number of correct predictions divided by the total number of predictions\n",
        "    \"\"\"\n",
        "    assert len(gtlabel) == len(\n",
        "        predlabel\n",
        "    ), \"Length of the ground-truth labels and predicted labels should be the same\"\n",
        "    correct = (\n",
        "        gtlabel == predlabel\n",
        "    ).sum()  # count the number of times the groundtruth label is equal to the predicted label.\n",
        "    return correct / len(gtlabel)"
      ]
    },
    {
      "cell_type": "markdown",
      "metadata": {
        "id": "4vJFwBFa9Klw"
      },
      "source": [
        "Let us make a function to split the dataset with the desired probability. We will use this function to split the dataset into training and testing sets. We will use the training set to train the model and the testing set to evaluate the model."
      ]
    },
    {
      "cell_type": "code",
      "execution_count": 7,
      "metadata": {
        "id": "Ko0VzpSM2Tdi"
      },
      "outputs": [],
      "source": [
        "def split(data, label, percent):\n",
        "    # generate a random number for each sample\n",
        "    rnd = rng.random(len(label))\n",
        "    split1 = rnd < percent\n",
        "    split2 = rnd >= percent\n",
        "\n",
        "    split1data = data[split1, :]\n",
        "    split1label = label[split1]\n",
        "    split2data = data[split2, :]\n",
        "    split2label = label[split2]\n",
        "    return split1data, split1label, split2data, split2label"
      ]
    },
    {
      "cell_type": "markdown",
      "metadata": {
        "id": "AcK3LEAJ_LGC"
      },
      "source": [
        "We will reserve 20% of our dataset as the test set. We will not change this portion throughout our experiments"
      ]
    },
    {
      "cell_type": "code",
      "execution_count": 8,
      "metadata": {
        "colab": {
          "base_uri": "https://localhost:8080/"
        },
        "id": "bBZkHBLJ1iU-",
        "outputId": "bd780583-02d5-4357-a77b-57b20f9193aa"
      },
      "outputs": [
        {
          "output_type": "stream",
          "name": "stdout",
          "text": [
            "Number of test samples: 4144\n",
            "Number of train samples: 16496\n",
            "Percent of test data: 20.07751937984496 %\n"
          ]
        }
      ],
      "source": [
        "testdata, testlabel, alltraindata, alltrainlabel = split(\n",
        "    dataset.data, dataset.target, 20 / 100\n",
        ")\n",
        "print(\"Number of test samples:\", len(testlabel))\n",
        "print(\"Number of train samples:\", len(alltrainlabel))\n",
        "print(\"Percent of test data:\", len(testlabel) * 100 / len(dataset.target), \"%\")"
      ]
    },
    {
      "cell_type": "markdown",
      "metadata": {
        "id": "a6Ss0Z6IAGNV"
      },
      "source": [
        "## Experiments with splits\n",
        "\n",
        "Let us reserve some of our train data as a validation set"
      ]
    },
    {
      "cell_type": "code",
      "execution_count": 9,
      "metadata": {
        "id": "WFew2iry_7W7"
      },
      "outputs": [],
      "source": [
        "traindata, trainlabel, valdata, vallabel = split(\n",
        "    alltraindata, alltrainlabel, 75 / 100)"
      ]
    },
    {
      "cell_type": "markdown",
      "metadata": {
        "id": "60hiu4clFN1i"
      },
      "source": [
        "What is the accuracy of our classifiers on the train dataset?"
      ]
    },
    {
      "cell_type": "code",
      "execution_count": 10,
      "metadata": {
        "colab": {
          "base_uri": "https://localhost:8080/"
        },
        "id": "DBlZDTHUFTZx",
        "outputId": "49415f4c-e684-4419-b8f4-5b61711e9124"
      },
      "outputs": [
        {
          "output_type": "stream",
          "name": "stdout",
          "text": [
            "Training accuracy using nearest neighbour algorithm: 100.0 %\n",
            "Training accuracy using random classifier:  16.4375808538163 %\n"
          ]
        }
      ],
      "source": [
        "trainpred = NN(traindata, trainlabel, traindata)\n",
        "trainAccuracy = Accuracy(trainlabel, trainpred)\n",
        "print(\"Training accuracy using nearest neighbour algorithm:\", trainAccuracy*100, \"%\")\n",
        "\n",
        "trainpred = RandomClassifier(traindata, trainlabel, traindata)\n",
        "trainAccuracy = Accuracy(trainlabel, trainpred)\n",
        "print(\"Training accuracy using random classifier: \", trainAccuracy*100, \"%\")"
      ]
    },
    {
      "cell_type": "markdown",
      "metadata": {
        "id": "7h08-9gJDtSy"
      },
      "source": [
        "For nearest neighbour, the train accuracy is always 1. The accuracy of the random classifier is close to 1/(number of classes) which is 0.1666 in our case. This is because the random classifier randomly assigns a label to each sample and the probability of assigning the correct label is 1/(number of classes). Let us predict the labels for our validation set and get the accuracy. This accuracy is a good estimate of the accuracy of our model on unseen data."
      ]
    },
    {
      "cell_type": "code",
      "execution_count": 11,
      "metadata": {
        "colab": {
          "base_uri": "https://localhost:8080/"
        },
        "id": "4h7bXoW_2H3v",
        "outputId": "bea47826-4825-4885-b721-d38e66299387"
      },
      "outputs": [
        {
          "output_type": "stream",
          "name": "stdout",
          "text": [
            "Validation accuracy using nearest neighbour algorithm: 34.10852713178294 %\n",
            "Validation accuracy using random classifier: 16.884689922480618 %\n"
          ]
        }
      ],
      "source": [
        "valpred = NN(traindata, trainlabel, valdata)\n",
        "valAccuracy = Accuracy(vallabel, valpred)\n",
        "print(\"Validation accuracy using nearest neighbour algorithm:\", valAccuracy*100, \"%\")\n",
        "\n",
        "\n",
        "valpred = RandomClassifier(traindata, trainlabel, valdata)\n",
        "valAccuracy = Accuracy(vallabel, valpred)\n",
        "print(\"Validation accuracy using random classifier:\", valAccuracy*100, \"%\")"
      ]
    },
    {
      "cell_type": "markdown",
      "metadata": {
        "id": "py9bLguFEjfg"
      },
      "source": [
        "Validation accuracy of nearest neighbour is considerably less than its train accuracy while the validation accuracy of random classifier is the same. However, the validation accuracy of nearest neighbour is twice that of the random classifier. Now let us try another random split and check the validation accuracy. We will see that the validation accuracy changes with the split. This is because the validation set is small and the accuracy is highly dependent on the samples in the validation set. We can get a better estimate of the accuracy by using cross-validation."
      ]
    },
    {
      "cell_type": "code",
      "execution_count": 12,
      "metadata": {
        "colab": {
          "base_uri": "https://localhost:8080/"
        },
        "id": "ujm3cyYzEntE",
        "outputId": "65903927-7aef-49d3-95ef-af8b6a918965"
      },
      "outputs": [
        {
          "output_type": "stream",
          "name": "stdout",
          "text": [
            "Validation accuracy using nearest neighbour algorithm: 34.048257372654156 %\n"
          ]
        }
      ],
      "source": [
        "traindata, trainlabel, valdata, vallabel = split(\n",
        "    alltraindata, alltrainlabel, 75 / 100)\n",
        "valpred = NN(traindata, trainlabel, valdata)\n",
        "valAccuracy = Accuracy(vallabel, valpred)\n",
        "print(\"Validation accuracy using nearest neighbour algorithm:\", valAccuracy*100, \"%\")"
      ]
    },
    {
      "cell_type": "markdown",
      "metadata": {
        "id": "oSOx7U83EKie"
      },
      "source": [
        "You can run the above cell multiple times to try with different random splits.\n",
        "We notice that the accuracy is different for each run, but close together.\n",
        "\n",
        "Now let us compare it with the accuracy we get on the test dataset."
      ]
    },
    {
      "cell_type": "code",
      "execution_count": 13,
      "metadata": {
        "colab": {
          "base_uri": "https://localhost:8080/"
        },
        "id": "PNEZ5ToYBEDW",
        "outputId": "0568b83c-3ae4-4710-d730-6d41d4881495"
      },
      "outputs": [
        {
          "output_type": "stream",
          "name": "stdout",
          "text": [
            "Test accuracy: 34.91795366795367 %\n"
          ]
        }
      ],
      "source": [
        "testpred = NN(alltraindata, alltrainlabel, testdata)\n",
        "testAccuracy = Accuracy(testlabel, testpred)\n",
        "\n",
        "print(\"Test accuracy:\", testAccuracy*100, \"%\")"
      ]
    },
    {
      "cell_type": "markdown",
      "metadata": {
        "id": "w3dGD531K3gH"
      },
      "source": [
        "### Try it out for yourself and answer:\n",
        "1. How is the accuracy of the validation set affected if we increase the percentage of validation set? What happens when we reduce it?\n",
        "2. How does the size of the train and validation set affect how well we can predict the accuracy on the test set using the validation set?\n",
        "3. What do you think is a good percentage to reserve for the validation set so that thest two factors are balanced?\n",
        "\n",
        "Answer for both nearest neighbour and random classifier. You can note down the values for your experiments and plot a graph using  <a href=https://matplotlib.org/stable/gallery/lines_bars_and_markers/step_demo.html#sphx-glr-gallery-lines-bars-and-markers-step-demo-py>plt.plot<href>. Check also for extreme values for splits, like 99.9% or 0.1%"
      ]
    },
    {
      "cell_type": "markdown",
      "metadata": {
        "id": "M9zvdYY6evgI"
      },
      "source": [
        "> Exercise: Try to implement a 3 nearest neighbour classifier and compare the accuracy of the 1 nearest neighbour classifier and the 3 nearest neighbour classifier on the test dataset. You can use the KNeighborsClassifier class from the scikit-learn library to implement the K-Nearest Neighbors model. You can set the number of neighbors using the n_neighbors parameter. You can also use the accuracy_score function from the scikit-learn library to calculate the accuracy of the model."
      ]
    },
    {
      "cell_type": "markdown",
      "metadata": {
        "id": "PnYvkAZLQY7h"
      },
      "source": [
        "## Multiple Splits\n",
        "\n",
        "One way to get more accurate estimates for the test accuracy is by using <b>cross-validation</b>. Here, we will try a simple version, where we do multiple train/val splits and take the average of validation accuracies as the test accuracy estimation. Here is a function for doing this. Note that this function will take a long time to execute. You can reduce the number of splits to make it faster."
      ]
    },
    {
      "cell_type": "code",
      "execution_count": 14,
      "metadata": {
        "id": "E4nGCUQXBTzo"
      },
      "outputs": [],
      "source": [
        "def AverageAccuracy(alldata, alllabel, splitpercent, iterations, classifier=NN):\n",
        "    \"\"\"\n",
        "    This function takes in the data, labels, split percentage, number of iterations and classifier function\n",
        "    and returns the average accuracy of the classifier\n",
        "\n",
        "    alldata: numpy array of shape (n,d) where n is the number of samples and d is the number of features\n",
        "    alllabel: numpy array of shape (n,) where n is the number of samples\n",
        "    splitpercent: float which is the percentage of data to be used for training\n",
        "    iterations: int which is the number of iterations to run the classifier\n",
        "    classifier: function which is the classifier function to be used\n",
        "\n",
        "    returns: the average accuracy of the classifier\n",
        "    \"\"\"\n",
        "    accuracy = 0\n",
        "    for ii in range(iterations):\n",
        "        traindata, trainlabel, valdata, vallabel = split(\n",
        "            alldata, alllabel, splitpercent\n",
        "        )\n",
        "        valpred = classifier(traindata, trainlabel, valdata)\n",
        "        accuracy += Accuracy(vallabel, valpred)\n",
        "    return accuracy / iterations  # average of all accuracies"
      ]
    },
    {
      "cell_type": "code",
      "execution_count": null,
      "metadata": {
        "id": "H3qtNar7Bbik"
      },
      "outputs": [],
      "source": [
        "avg_acc = AverageAccuracy(alltraindata, alltrainlabel, 75 / 100, 10, classifier=NN)\n",
        "print(\"Average validation accuracy:\", avg_acc*100, \"%\")\n",
        "testpred = NN(alltraindata, alltrainlabel, testdata)\n",
        "\n",
        "print(\"Test accuracy:\", Accuracy(testlabel, testpred)*100, \"%\")"
      ]
    },
    {
      "cell_type": "markdown",
      "metadata": {
        "id": "33GIn4x5VH-d"
      },
      "source": [
        "This is a very simple way of doing cross-validation. There are many well-known algorithms for cross-validation, like k-fold cross-validation, leave-one-out etc. This will be covered in detail in a later module. For more information about cross-validation, check <a href=https://en.wikipedia.org/wiki/Cross-validation_(statistics)>Cross-validatioin (Wikipedia)</a>\n",
        "\n",
        "### Questions\n",
        "1. Does averaging the validation accuracy across multiple splits give more consistent results?\n",
        "Yes, averaging the validation accuracy across multiple splits typically gives more consistent and reliable results, especially when working with datasets that might have variability in their structure. Here's why and how this works:\n",
        "\n",
        "\n",
        "---\n",
        "\n",
        "1. Why Averaging Validation Accuracy Across Splits Helps\n",
        "\n",
        "a) Reduces Bias\n",
        "\n",
        "A single train-test split can introduce sampling bias, as the performance may depend heavily on how the data is split (e.g., uneven representation of classes or important patterns in the train/validation sets).\n",
        "\n",
        "Averaging over multiple splits smooths out the effect of these biases, providing a more representative estimate of model performance.\n",
        "\n",
        "\n",
        "b) Accounts for Variability\n",
        "\n",
        "If your dataset is small or imbalanced, splitting it into training and validation sets may lead to different results depending on the split.\n",
        "\n",
        "Using multiple splits (e.g., through k-fold cross-validation) ensures that the model is evaluated on different subsets of the data, reducing variance in results.\n",
        "\n",
        "\n",
        "c) Improves Generalization Estimate\n",
        "\n",
        "The average accuracy across splits provides a better estimate of how the model will perform on unseen data since it’s been tested on multiple validation sets.\n",
        "\n",
        "\n",
        "\n",
        "---\n",
        "\n",
        "2. How to Implement It\n",
        "\n",
        "a) k-Fold Cross-Validation\n",
        "\n",
        "Divide your data into k folds (e.g., 5 or 10).\n",
        "\n",
        "Use one fold for validation and the rest for training. Repeat the process k times, with each fold serving as\n",
        "\n",
        "\n",
        "\n",
        "2. Does it give more accurate estimate of test accuracy?\n",
        "Averaging validation accuracy across multiple splits (e.g., using k-fold cross-validation) generally gives a more accurate estimate of test accuracy, but there are caveats. Here's why it works, its limitations, and when it might differ from actual test performance.\n",
        "\n",
        "\n",
        "---\n",
        "\n",
        "1. Why Averaging Validation Accuracy Gives a Better Estimate\n",
        "\n",
        "a) Reduces Sampling Bias\n",
        "\n",
        "When you rely on a single train-test split, the split may not represent the entire dataset (e.g., one split might have more challenging examples in the test set).\n",
        "\n",
        "Averaging over multiple splits ensures that every data point is included in training and validation at least once, leading to a more balanced estimate of model performance.\n",
        "\n",
        "\n",
        "b) Incorporates Variability in Data\n",
        "\n",
        "Different splits expose the model to varied subsets of data. Averaging the performance across these splits provides a more reliable estimate of how the model will perform on unseen data.\n",
        "\n",
        "\n",
        "c) Represents the Dataset Holistically\n",
        "\n",
        "By testing across all data points (as part of validation in different splits), cross-validation approximates the model's behavior on the entire dataset.\n",
        "\n",
        "\n",
        "\n",
        "---\n",
        "\n",
        "2. When Averaged Validation Accuracy Aligns with Test Accuracy\n",
        "\n",
        "Large and Representative Dataset:\n",
        "\n",
        "When your dataset is large and well-represented, validation accuracy (averaged over splits) will closely align with test accuracy.\n",
        "\n",
        "\n",
        "Balanced Classes:\n",
        "\n",
        "Stratified k-fold cross-validation ensures the class distribution in training/validation folds matches the original data, improving the alignment with test accuracy.\n",
        "\n",
        "\n",
        "Stable Model:\n",
        "\n",
        "If your model isn't highly sensitive to small changes in training data (e.g., overfitting-prone models like deep networks), validation results will better reflect test performance.\n",
        "\n",
        "\n",
        "\n",
        "\n",
        "---\n",
        "\n",
        "3. Potential Discrepancies Between Validation and Test Accuracy\n",
        "\n",
        "a) Overfitting During Cross-Validation\n",
        "\n",
        "If you repeatedly tune hyperparameters or features using cross-validation results, your model may indirectly overfit to the validation set.\n",
        "\n",
        "As a result, validation accuracy may be higher than actual test accuracy.\n",
        "\n",
        "Solution: Use a separate test set for final evaluation.\n",
        "\n",
        "\n",
        "b) Distribution Shift\n",
        "\n",
        "If the test set comes from a slightly different distribution than the training data (e.g., due to time, location, or other factors), validation accuracy won't perfectly predict test accuracy.\n",
        "\n",
        "Solution: Ensure the training and test sets come from the same distribution or use domain adaptation techniques.\n",
        "\n",
        "\n",
        "c) Small Dataset\n",
        "\n",
        "If the dataset is small, even cross-validation might give overly optimistic results due to lack of diversity in splits.\n",
        "\n",
        "Solution: Use techniques like leave-one-out cross-validation (LOOCV) or augment the dataset.\n",
        "\n",
        "\n",
        "d) Class Imbalance\n",
        "\n",
        "If some classes are underrepresented in the dataset, cross-validation accuracy might not fully capture the model's performance on minority classes, leading to a test accuracy discrepancy.\n",
        "\n",
        "Solution: Use stratified cross-validation and evaluate class-wise metrics (precision, recall, etc.).\n",
        "\n",
        "\n",
        "\n",
        "---\n",
        "\n",
        "4. Example: Validation vs. Test Accuracy\n",
        "\n",
        "\n",
        "3. What is the effect of the number of iterations on the estimate? Do we get a better estimate with higher iterations?\n",
        "The number of iterations (e.g., the number of splits or folds in cross-validation) has a direct impact on the stability and accuracy of the estimate, but it also introduces trade-offs in terms of computational cost. Here’s a breakdown of how the number of iterations affects the estimate and whether more iterations provide a better estimate:\n",
        "\n",
        "\n",
        "---\n",
        "\n",
        "1. Effect of Number of Iterations\n",
        "\n",
        "a) Lower Iterations\n",
        "\n",
        "With fewer iterations (e.g., 3 splits or folds), the estimate of accuracy can be more variable and less representative because:\n",
        "\n",
        "Fewer data subsets are used for training and testing.\n",
        "\n",
        "Some data points may be underrepresented or excluded entirely from validation.\n",
        "\n",
        "\n",
        "Example: A 3-fold cross-validation might give varying results depending on how data is split, especially with smaller datasets.\n",
        "\n",
        "\n",
        "b) Higher Iterations\n",
        "\n",
        "As the number of iterations increases, the estimate becomes more reliable and consistent because:\n",
        "\n",
        "Every data point is used in training and validation more evenly across iterations.\n",
        "\n",
        "Random variations due to splitting are smoothed out.\n",
        "\n",
        "\n",
        "Example: 10-fold cross-validation generally provides a better estimate of generalization than 3-fold, especially for imbalanced datasets.\n",
        "\n",
        "\n",
        "c) Extreme Iterations (e.g., LOOCV)\n",
        "\n",
        "Leave-One-Out Cross-Validation (LOOCV) uses N iterations, where  is the number of data points.\n",
        "\n",
        "Every data point is used once as the validation set, so the estimate reflects the entire dataset’s variability.\n",
        "\n",
        "This gives a very accurate and unbiased estimate but is computationally expensive, especially for large datasets.\n",
        "\n",
        "\n",
        "\n",
        "\n",
        "---\n",
        "\n",
        "2. Why More Iterations Improve the Estimate\n",
        "\n",
        "1. Reduced Variance:\n",
        "\n",
        "Averaging over a larger number of iterations reduces the variance in the performance estimate.\n",
        "\n",
        "The estimate is less sensitive to outliers or specific data splits.\n",
        "\n",
        "\n",
        "\n",
        "2. More Generalized Results:\n",
        "\n",
        "With higher iterations, the model trains and validates on a greater variety of data splits, leading to a better approximation of its true performance on unseen data.\n",
        "\n",
        "\n",
        "\n",
        "3. Data Coverage:\n",
        "\n",
        "Every data point is included in training and validation more frequently, ensuring that no subset of the data disproportionately influences the results.\n",
        "\n",
        "\n",
        "\n",
        "\n",
        "\n",
        "---\n",
        "\n",
        "3. Trade-Offs with Higher Iterations\n",
        "\n",
        "a) Diminishing Returns\n",
        "\n",
        "Beyond a certain number of iterations (e.g., increasing from 10 to 20 folds), the improvement in estimate accuracy is minimal.\n",
        "\n",
        "Example: For large datasets, a 10-fold cross-validation estimate is often sufficient and close to LOOCV.\n",
        "\n",
        "\n",
        "b) Computational Cost\n",
        "\n",
        "Each additional iteration increases the computational\n",
        "\n",
        "\n",
        "\n",
        "4. Consider the results you got for the previous questions. Can we deal with a very small train dataset or validation dataset by increasing the iterations?\n",
        "Yes, you can deal with a very small training or validation dataset by increasing the number of iterations, as this allows you to make better use of the available data. However, there are important caveats and limitations to consider. Here's an analysis based on the results and principles we've discussed:\n",
        "\n",
        "\n",
        "---\n",
        "\n",
        "1. How Increasing Iterations Helps with Small Datasets\n",
        "\n",
        "a) Better Utilization of Data\n",
        "\n",
        "In scenarios like k-fold cross-validation, increasing the number of folds (or iterations) means smaller validation subsets and larger training subsets.\n",
        "\n",
        "For example, with 5-fold cross-validation, 20% of the data is used for validation in each fold, while 80% is used for training.\n",
        "\n",
        "With 10-fold cross-validation, only 10% of the data is used for validation, leaving 90% for training. This is particularly beneficial for small datasets where every additional training sample matters.\n",
        "\n",
        "\n",
        "\n",
        "b) Reduces Variability in Results\n",
        "\n",
        "Small datasets are prone to high variance in performance metrics due to the limited representation of the data distribution in training and validation splits.\n",
        "\n",
        "More iterations ensure that every data point is used for both training and validation multiple times, leading to a more stable and reliable performance estimate.\n",
        "\n",
        "\n",
        "c) Handles Sampling Bias\n",
        "\n",
        "In small datasets, random splits can lead to sampling bias, where certain important patterns or outliers are excluded from the training set.\n",
        "\n",
        "More iterations reduce the likelihood of these biases affecting the final estimate by testing the model across many different splits.\n",
        "\n",
        "\n",
        "\n",
        "\n",
        "---\n",
        "\n",
        "2. Practical Example: Small Dataset with Increasing Iterations\n",
        "\n",
        "Increasing iterations ensures the model is trained on a larger proportion of the data in each iteration, which is critical when the dataset is small.\n",
        "\n",
        "\n",
        "\n",
        "---\n",
        "\n",
        "3. Challenges with Very Small Datasets\n",
        "\n",
        "While increasing iterations helps, there are challenges that arise when working with very small datasets:\n",
        "\n",
        "a) Overfitting Risk\n",
        "\n",
        "In small datasets, the model is more likely to memorize the training data rather than learn generalizable patterns.\n",
        "\n",
        "Increasing iterations won't solve this directly. Proper regularization (e.g., L1/L2 penalties, dropout) and simpler models are needed.\n",
        "\n",
        "\n",
        "\n",
        "b) Computational Cost\n",
        "\n",
        "Techniques like LOOCV involve training the model  times (where  is the number of data points). This is computationally expensive, especially for complex models like deep learning.\n",
        "\n",
        "\n",
        "c) Limited Representation of Data Distribution\n",
        "\n",
        "A very small dataset might not represent the full variability of the problem space (e.g., insufficient examples of edge cases).\n",
        "\n",
        "Cross-validation with more iterations can reduce sampling bias but cannot create new information about unseen patterns.\n",
        "\n",
        "\n",
        "\n",
        "d) Validation Size Becomes Too Small\n",
        "\n",
        "With higher iterations (e.g., 10-fold or LOOCV), the validation set becomes very small. This may result in unstable validation metrics as a single misclassification has a larger impact.\n",
        "\n",
        "\n",
        "\n",
        "---\n",
        "\n",
        "4. Strategies for Very Small Datasets\n",
        "\n",
        "To address the limitations of small datasets while benefiting from increased iterations, you can apply these strategies:\n",
        "\n",
        "a) Data Augmentation\n",
        "\n",
        "Artificially increase the size of the dataset by transforming the data (e.g., rotations, flips for images; adding noise for numeric data).\n",
        "\n",
        "\n",
        "b) Transfer Learning\n",
        "\n",
        "Use a pre-trained model and fine-tune it on the small dataset. This leverages knowledge from larger datasets to improve performance.\n",
        "\n",
        "\n",
        "c) Simpler Models\n",
        "\n",
        "Use models with fewer parameters to reduce the risk of overfitting.\n",
        "\n",
        "Example: Linear regression or logistic regression over deep learning for small datasets.\n",
        "\n",
        "\n",
        "\n",
        "d) Use Stratified Cross-Validation\n",
        "\n",
        "If the dataset is imbalanced, ensure that each fold in cross-validation preserves the class distribution, so the model doesn't miss rare classes.\n",
        "\n",
        "\n",
        "e) Regularization and Early Stopping\n",
        "\n",
        "Apply techniques like L2 regularization and monitor performance on validation data during training to prevent overfitting.\n",
        "\n",
        "\n",
        "\n",
        "---\n",
        "\n",
        "5. Does Increasing Iterations Fully Solve the Problem?\n",
        "\n",
        "While increasing iterations can help mitigate the challenges of small datasets, it is not a silver bullet:\n",
        "\n",
        "It improves the reliability of performance estimates by making better use of the data.\n",
        "\n",
        "However, it doesn't address fundamental issues like overfitting, insufficient data variability, or lack of representativeness in the dataset.\n",
        "\n",
        "\n",
        "For best results, you should combine increased iterations with regularization, data augmentation, or external data sources when feasible.\n",
        "\n",
        "\n",
        "---\n",
        "\n",
        "6. Key Takeaways\n",
        "\n",
        "1. Yes, increasing iterations (e.g., folds) helps in small datasets by improving training set size, reducing bias, and giving more consistent validation estimates.\n",
        "\n",
        "\n",
        "2. Be cautious of overfitting and computational cost, especially for methods like LOOCV.\n",
        "\n",
        "\n",
        "3. Complement increased iterations with techniques like regularization, transfer learning, or data augmentation to make the most of small datasets.\n",
        "\n",
        "\n",
        "\n",
        "Would you like me to expand on any specific strategy or run an example analysis?"
      ]
    },
    {
      "cell_type": "markdown",
      "metadata": {
        "id": "z-SBxy1qevgJ"
      },
      "source": [
        "> Exercise: How does the accuracy of the 3 nearest neighbour classifier change with the number of splits? How is it affected by the split size? Compare the results with the 1 nearest neighbour classifier."
      ]
    }
  ],
  "metadata": {
    "colab": {
      "provenance": [],
      "include_colab_link": true
    },
    "kernelspec": {
      "display_name": "Python 3",
      "name": "python3"
    },
    "language_info": {
      "codemirror_mode": {
        "name": "ipython",
        "version": 3
      },
      "file_extension": ".py",
      "mimetype": "text/x-python",
      "name": "python",
      "nbconvert_exporter": "python",
      "pygments_lexer": "ipython3",
      "version": "3.10.10"
    }
  },
  "nbformat": 4,
  "nbformat_minor": 0
}