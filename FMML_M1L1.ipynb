{
  "cells": [
    {
      "cell_type": "markdown",
      "metadata": {
        "id": "view-in-github",
        "colab_type": "text"
      },
      "source": [
        "<a href=\"https://colab.research.google.com/github/Keerthineelima/Fmml_all-repos/blob/main/FMML_M1L1.ipynb\" target=\"_parent\"><img src=\"https://colab.research.google.com/assets/colab-badge.svg\" alt=\"Open In Colab\"/></a>"
      ]
    },
    {
      "cell_type": "markdown",
      "metadata": {
        "id": "A6I1yI79fbLD"
      },
      "source": [
        "# Extracting features from data\n",
        "\n",
        "FMML Module 1, Lab 1"
      ]
    },
    {
      "cell_type": "code",
      "execution_count": 1,
      "metadata": {
        "id": "OimBnfcpvcNS",
        "colab": {
          "base_uri": "https://localhost:8080/"
        },
        "outputId": "2b2a9282-4be2-45ba-cbc7-1fc1cc24da76"
      },
      "outputs": [
        {
          "output_type": "stream",
          "name": "stdout",
          "text": [
            "  Preparing metadata (setup.py) ... \u001b[?25l\u001b[?25hdone\n",
            "  Building wheel for wikipedia (setup.py) ... \u001b[?25l\u001b[?25hdone\n"
          ]
        }
      ],
      "source": [
        "!pip -q install wikipedia nltk matplotlib plotly pandas\n",
        "\n",
        "import re\n",
        "import nltk\n",
        "import wikipedia\n",
        "import numpy as np\n",
        "import unicodedata\n",
        "import pandas as pd\n",
        "import plotly.express as px\n",
        "from nltk.util import ngrams\n",
        "import matplotlib.pyplot as plt\n",
        "from collections import Counter"
      ]
    },
    {
      "cell_type": "markdown",
      "metadata": {
        "id": "m6hGhIGiy4GP"
      },
      "source": [
        "# Part 1: Features of text\n",
        "\n",
        "Computures can't understand text. They can only process numbers. So, the logical first step in any attempt to analyze text is to convert it into numbers. This process is called **feature extraction** or **vectorization**. In this lab, we will try some simple methods for feature extraction.\n",
        "\n",
        "First, let us download a 2 documents from Wikipedia in two different languages, English and French. We will then extract features from the text in these documents."
      ]
    },
    {
      "cell_type": "code",
      "execution_count": 2,
      "metadata": {
        "id": "lpUmCoEr2R3J"
      },
      "outputs": [],
      "source": [
        "topic1 = \"Giraffe\"\n",
        "topic2 = \"Elephant\"\n",
        "\n",
        "wikipedia.set_lang(\"en\")\n",
        "\n",
        "eng1 = wikipedia.page(topic1).content\n",
        "eng2 = wikipedia.page(topic2).content\n",
        "\n",
        "wikipedia.set_lang(\"fr\")\n",
        "\n",
        "fr1 = wikipedia.page(topic1).content\n",
        "fr2 = wikipedia.page(topic2).content"
      ]
    },
    {
      "cell_type": "markdown",
      "metadata": {
        "id": "Cj7RlhMiO5kd"
      },
      "source": [
        "This is what the text looks like in English:"
      ]
    },
    {
      "cell_type": "code",
      "execution_count": 3,
      "metadata": {
        "colab": {
          "base_uri": "https://localhost:8080/",
          "height": 296
        },
        "id": "9D_8laDfupTt",
        "outputId": "b1c805ba-901b-41c6-b6e5-054f1e4a34b7"
      },
      "outputs": [
        {
          "output_type": "execute_result",
          "data": {
            "text/plain": [
              "'Elephants are the largest living land animals. Three living species are currently recognised: the African bush elephant (Loxodonta africana), the African forest elephant (L. cyclotis), and the Asian elephant (Elephas maximus). They are the only surviving members of the family Elephantidae and the order Proboscidea; extinct relatives include mammoths and mastodons. Distinctive features of elephants include a long proboscis called a trunk, tusks, large ear flaps, pillar-like legs, and tough but se'"
            ],
            "application/vnd.google.colaboratory.intrinsic+json": {
              "type": "string"
            }
          },
          "metadata": {},
          "execution_count": 3
        }
      ],
      "source": [
        "eng2[:500]"
      ]
    },
    {
      "cell_type": "markdown",
      "metadata": {
        "id": "9kdwJ30nupTt"
      },
      "source": [
        "This is what the text looks like in French:"
      ]
    },
    {
      "cell_type": "code",
      "execution_count": 4,
      "metadata": {
        "colab": {
          "base_uri": "https://localhost:8080/",
          "height": 296
        },
        "id": "GW0G-t912UXZ",
        "outputId": "14e94a53-2b34-4f70-d051-4b1fe939a3bc"
      },
      "outputs": [
        {
          "output_type": "execute_result",
          "data": {
            "text/plain": [
              "\"Les éléphants sont des mammifères proboscidiens de la famille des Éléphantidés. Ils correspondent aujourd'hui à trois espèces réparties en deux genres distincts. L'éléphant de savane d'Afrique et l'éléphant de forêt d'Afrique, autrefois regroupés sous la même espèce d'« éléphant d'Afrique », appartiennent au genre Loxodonta, tandis que l'éléphant d'Asie, anciennement appelé « éléphant indien », appartient au genre Elephas. Ils se différencient par certaines caractéristiques anatomiques, les élép\""
            ],
            "application/vnd.google.colaboratory.intrinsic+json": {
              "type": "string"
            }
          },
          "metadata": {},
          "execution_count": 4
        }
      ],
      "source": [
        "fr2[:500]"
      ]
    },
    {
      "cell_type": "markdown",
      "metadata": {
        "id": "EZkmNJ7XO9xX"
      },
      "source": [
        "We need to clean this up a bit. Let us remove all the special characters and keep only 26 letters and space. Note that this will remove accented characters in French also. We are also removing all the numbers and spaces. So this is not an ideal solution."
      ]
    },
    {
      "cell_type": "code",
      "execution_count": 5,
      "metadata": {
        "id": "e5yf5P9pPI4t"
      },
      "outputs": [],
      "source": [
        "def cleanup(text):\n",
        "    text = text.lower()  # make it lowercase\n",
        "    text = re.sub(\n",
        "        r\"[^a-z\\s]\", \"\", text\n",
        "    )  # only keep characters in a-z range and whitespaces\n",
        "    return text"
      ]
    },
    {
      "cell_type": "code",
      "execution_count": 6,
      "metadata": {
        "id": "qrOjC32fRuTK"
      },
      "outputs": [],
      "source": [
        "eng1 = cleanup(eng1)\n",
        "eng2 = cleanup(eng2)\n",
        "fr1 = cleanup(fr1)\n",
        "fr2 = cleanup(fr2)"
      ]
    },
    {
      "cell_type": "code",
      "execution_count": 7,
      "metadata": {
        "colab": {
          "base_uri": "https://localhost:8080/",
          "height": 296
        },
        "id": "rIdqvL2G-LqL",
        "outputId": "55b5e2d9-5739-484a-9557-19819cd92645"
      },
      "outputs": [
        {
          "output_type": "execute_result",
          "data": {
            "text/plain": [
              "'elephants are the largest living land animals three living species are currently recognised the african bush elephant loxodonta africana the african forest elephant l cyclotis and the asian elephant elephas maximus they are the only surviving members of the family elephantidae and the order proboscidea extinct relatives include mammoths and mastodons distinctive features of elephants include a long proboscis called a trunk tusks large ear flaps pillarlike legs and tough but sensitive grey skin t'"
            ],
            "application/vnd.google.colaboratory.intrinsic+json": {
              "type": "string"
            }
          },
          "metadata": {},
          "execution_count": 7
        }
      ],
      "source": [
        "eng2[:500]"
      ]
    },
    {
      "cell_type": "code",
      "source": [
        "fr2[:500]"
      ],
      "metadata": {
        "colab": {
          "base_uri": "https://localhost:8080/",
          "height": 296
        },
        "id": "oAnXWFaFLaZv",
        "outputId": "4d9bc0cd-f929-4701-9bad-ccf69d3020e4"
      },
      "execution_count": 8,
      "outputs": [
        {
          "output_type": "execute_result",
          "data": {
            "text/plain": [
              "'les lphants sont des mammifres proboscidiens de la famille des lphantids ils correspondent aujourdhui  trois espces rparties en deux genres distincts llphant de savane dafrique et llphant de fort dafrique autrefois regroups sous la mme espce d lphant dafrique  appartiennent au genre loxodonta tandis que llphant dasie anciennement appel  lphant indien  appartient au genre elephas ils se diffrencient par certaines caractristiques anatomiques les lphants dasie tant en gnral plus petits avec des ore'"
            ],
            "application/vnd.google.colaboratory.intrinsic+json": {
              "type": "string"
            }
          },
          "metadata": {},
          "execution_count": 8
        }
      ]
    },
    {
      "cell_type": "markdown",
      "metadata": {
        "id": "jXFTWwd0rk63"
      },
      "source": [
        "Now let us calculate the frequency of the character n-grams. N-grams are groups of characters of size n. A unigram is a single character and a bigram is a group of two characters and so on.\n",
        "\n",
        "Let us count the frequency of each character in a text and plot it in a histogram."
      ]
    },
    {
      "cell_type": "code",
      "execution_count": 9,
      "metadata": {
        "id": "g3Lz3YUjN0L5"
      },
      "outputs": [],
      "source": [
        "def tuple2string(tup):\n",
        "    # convert a tuple of characters to a string\n",
        "    # ('t', 'h') - > 'th'\n",
        "    st = \"\"\n",
        "    for ii in tup:\n",
        "        st = st + ii\n",
        "    return st\n",
        "\n",
        "\n",
        "def key2string(keys):\n",
        "    # convert a tuple of tuples to a list of strings\n",
        "    # [('t', 'h'), ('h', 'e')] -> ['th', 'he']\n",
        "    # [('t')] - >['t']\n",
        "    return [tuple2string(i) for i in keys]\n",
        "\n",
        "\n",
        "def get_ngram_freq(ngram):\n",
        "    # get the frequency of ngrams\n",
        "    # sort the keys in alphabetic order\n",
        "    keys = key2string(ngram.keys())\n",
        "    values = list(ngram.values())\n",
        "\n",
        "    combined = zip(keys, values)\n",
        "    zipped_sorted = sorted(combined, key=lambda x: x[0])\n",
        "    keys, values = map(list, zip(*zipped_sorted))\n",
        "    return keys, values"
      ]
    },
    {
      "cell_type": "markdown",
      "metadata": {
        "id": "zHD62zbZcwAB"
      },
      "source": [
        "Let us compare the histograms of English pages and French pages. Can you spot a difference?"
      ]
    },
    {
      "cell_type": "code",
      "execution_count": 10,
      "metadata": {
        "colab": {
          "base_uri": "https://localhost:8080/",
          "height": 117
        },
        "id": "LKcGRgH6b0KP",
        "outputId": "26ee91ed-7b65-4c11-be69-2b8ba07526da"
      },
      "outputs": [
        {
          "output_type": "display_data",
          "data": {
            "text/plain": [
              "<Figure size 1500x500 with 2 Axes>"
            ],
            "image/png": "[encoded data removed]"
          },
          "metadata": {}
        }
      ],
      "source": [
        "fig, axs = plt.subplots(1, 2, figsize=(15, 5))\n",
        "unigram_eng1 = Counter(ngrams(eng1, 1))\n",
        "keys, values = get_ngram_freq(unigram_eng1)\n",
        "axs[0].bar(keys, values)\n",
        "axs[0].set_title(\"English 1\")\n",
        "\n",
        "unigram_eng2 = Counter(ngrams(eng2, 1))\n",
        "keys, values = get_ngram_freq(unigram_eng2)\n",
        "axs[1].bar(keys, values)\n",
        "axs[1].set_title(\"English 2\")\n",
        "plt.show()"
      ]
    },
    {
      "cell_type": "code",
      "execution_count": 11,
      "metadata": {
        "colab": {
          "base_uri": "https://localhost:8080/",
          "height": 171
        },
        "id": "fDM_UhCL2QLt",
        "outputId": "65280e35-d2c5-4bf2-baf4-e5e893955870"
      },
      "outputs": [
        {
          "output_type": "stream",
          "name": "stderr",
          "text": [
            "/usr/local/lib/python3.10/dist-packages/IPython/core/pylabtools.py:151: UserWarning: Glyph 9 (\t) missing from current font.\n",
            "  fig.canvas.print_figure(bytes_io, **kw)\n"
          ]
        },
        {
          "output_type": "display_data",
          "data": {
            "text/plain": [
              "<Figure size 1500x500 with 2 Axes>"
            ],
            "image/png": "[encoded data removed]"
          },
          "metadata": {}
        }
      ],
      "source": [
        "fig, axs = plt.subplots(1, 2, figsize=(15, 5))\n",
        "unigram_fr1 = Counter(ngrams(fr1, 1))\n",
        "keys, values = get_ngram_freq(unigram_fr1)\n",
        "axs[0].bar(keys, values)\n",
        "axs[0].set_title(\"French 1\")\n",
        "\n",
        "unigram_fr2 = Counter(ngrams(fr2, 1))\n",
        "keys, values = get_ngram_freq(unigram_fr2)\n",
        "axs[1].bar(keys, values)\n",
        "axs[1].set_title(\"French 2\")\n",
        "plt.show()"
      ]
    },
    {
      "cell_type": "markdown",
      "metadata": {
        "id": "kxgrdZLKdkAB"
      },
      "source": [
        "We can see that the unigrams for French and English are very similar. So this is not a good feature if we want to distinguish between English and French. Let us look at bigrams."
      ]
    },
    {
      "cell_type": "code",
      "execution_count": null,
      "metadata": {
        "id": "JwPQbaTCupTu"
      },
      "outputs": [],
      "source": [
        "fig, axs = plt.subplots(2, 2, figsize=(15, 10))\n",
        "bigram_eng1 = Counter(ngrams(eng1, 2))\n",
        "keys, values = get_ngram_freq(bigram_eng1)\n",
        "axs[0, 0].bar(keys, values)\n",
        "axs[0, 0].set_title(\"English 1\")\n",
        "\n",
        "bigram_eng2 = Counter(ngrams(eng2, 2))\n",
        "keys, values = get_ngram_freq(bigram_eng2)\n",
        "axs[0, 1].bar(keys, values)\n",
        "axs[0, 1].set_title(\"English 2\")\n",
        "\n",
        "bigram_fr1 = Counter(ngrams(fr1, 2))\n",
        "keys, values = get_ngram_freq(bigram_fr1)\n",
        "axs[1, 0].bar(keys, values)\n",
        "axs[1, 0].set_title(\"French 1\")\n",
        "\n",
        "bigram_fr2 = Counter(ngrams(fr2, 2))\n",
        "keys, values = get_ngram_freq(bigram_fr2)\n",
        "axs[1, 1].bar(keys, values)\n",
        "axs[1, 1].set_title(\"French 2\")\n",
        "plt.show()"
      ]
    },
    {
      "cell_type": "markdown",
      "metadata": {
        "id": "O-egsHMIg5Rp"
      },
      "source": [
        "Another way to visualize bigrams is to use a 2-dimensional graph."
      ]
    },
    {
      "cell_type": "code",
      "execution_count": null,
      "metadata": {
        "id": "3EaPJgtaVxZM"
      },
      "outputs": [],
      "source": [
        "def get_2D_ngram_freq(ngram):\n",
        "    freq = np.zeros((26, 26))\n",
        "    for ii in range(26):\n",
        "        for jj in range(26):\n",
        "            freq[ii, jj] = ngram[(chr(ord(\"a\") + ii), chr(ord(\"a\") + jj))]\n",
        "    return freq"
      ]
    },
    {
      "cell_type": "code",
      "execution_count": null,
      "metadata": {
        "id": "6Hpu4zRVupTv"
      },
      "outputs": [],
      "source": [
        "fig, axs = plt.subplots(2, 2, figsize=(15, 10))\n",
        "bigram_eng1_freq = get_2D_ngram_freq(bigram_eng1)\n",
        "fig.colorbar(axs[0, 0].imshow(bigram_eng1_freq, cmap=\"hot\"), ax=axs[0, 0])\n",
        "axs[0, 0].set_title(\"English 1\")\n",
        "\n",
        "bigram_eng2_freq = get_2D_ngram_freq(bigram_eng2)\n",
        "fig.colorbar(axs[0, 1].imshow(bigram_eng2_freq, cmap=\"hot\"), ax=axs[0, 1])\n",
        "axs[0, 1].set_title(\"English 2\")\n",
        "\n",
        "bigram_fr1_freq = get_2D_ngram_freq(bigram_fr1)\n",
        "fig.colorbar(axs[1, 0].imshow(bigram_fr1_freq, cmap=\"hot\"), ax=axs[1, 0])\n",
        "axs[1, 0].set_title(\"French 1\")\n",
        "\n",
        "bigram_fr2_freq = get_2D_ngram_freq(bigram_fr2)\n",
        "fig.colorbar(axs[1, 1].imshow(bigram_fr2_freq, cmap=\"hot\"), ax=axs[1, 1])\n",
        "axs[1, 1].set_title(\"French 2\")\n",
        "plt.show()"
      ]
    },
    {
      "cell_type": "markdown",
      "metadata": {
        "id": "rGOEHcyGokD0"
      },
      "source": [
        "Let us look at the top 10 ngrams for each text."
      ]
    },
    {
      "cell_type": "code",
      "execution_count": null,
      "metadata": {
        "id": "dk2TkzTno8vb"
      },
      "outputs": [],
      "source": [
        "def ind2tup(ind):\n",
        "    ind = int(ind)\n",
        "    i = int(ind / 26)\n",
        "    j = int(ind % 26)\n",
        "    return (chr(ord(\"a\") + i), chr(ord(\"a\") + j))\n",
        "\n",
        "\n",
        "def ShowTopN(bifreq, n=10):\n",
        "    f = bifreq.flatten()\n",
        "    arg = np.argsort(-f)\n",
        "    for ii in range(n):\n",
        "        print(f\"{ind2tup(arg[ii])} : {f[arg[ii]]}\")"
      ]
    },
    {
      "cell_type": "code",
      "execution_count": null,
      "metadata": {
        "id": "_HeWNh_q0QZ1"
      },
      "outputs": [],
      "source": [
        "print(\"\\nEnglish 1:\")\n",
        "ShowTopN(bigram_eng1_freq)\n",
        "\n",
        "print(\"\\nEnglish 2:\")\n",
        "ShowTopN(bigram_eng2_freq)\n",
        "\n",
        "print(\"\\nFrench 1:\")\n",
        "ShowTopN(bigram_fr1_freq)\n",
        "\n",
        "print(\"\\nFrench 2:\")\n",
        "ShowTopN(bigram_fr2_freq)"
      ]
    },
    {
      "cell_type": "markdown",
      "metadata": {
        "id": "6kDovOP4l98z"
      },
      "source": [
        "We observe that the bigrams are similar across different topics but different across languages. Thus, the bigram frequency is a good feature for distinguishing languages, but not for distinguishing topics.\n",
        "\n",
        "Thus, we were able to convert a many-dimensional input (the text) to 26 dimesions (unigrams) or 26*26 dimensions (bigrams).\n",
        "\n",
        "\n",
        "A few ways to explore:\n",
        "1. Try with different languages.\n",
        "2. The topics we used are quite similar, wikipedia articles of 'elephant' and 'giraffe'. What happens if we use very different topics? What if we use text from another source than Wikipedia?\n",
        "3. How can we use and visualize trigrams and higher n-grams?"
      ]
    },
    {
      "cell_type": "markdown",
      "metadata": {
        "id": "HDHuf6v0upTv"
      },
      "source": [
        "> Exercise: Try to extract trigrams and visualize the top 10 trigrams for each text."
      ]
    },
    {
      "cell_type": "markdown",
      "metadata": {
        "id": "2ZJfjIHk-oHV"
      },
      "source": [
        "# Part 2: Written numbers\n",
        "\n",
        "We've seen how to extract features from text. Now let us see how to extract features from images. We will use the MNIST dataset which contains images of handwritten numbers. Each image is represented in a 28*28 array. Let us see if we can extract some simple features from these images which can help us distinguish between the digits."
      ]
    },
    {
      "cell_type": "code",
      "execution_count": null,
      "metadata": {
        "id": "yNsLJSr6wGY0"
      },
      "outputs": [],
      "source": [
        "from keras.datasets import mnist\n",
        "\n",
        "# loading the dataset\n",
        "(train_X, train_y), (test_X, test_y) = mnist.load_data()"
      ]
    },
    {
      "cell_type": "markdown",
      "metadata": {
        "id": "jVNr144WAUZO"
      },
      "source": [
        "Extract a subset of the data for our experiment:"
      ]
    },
    {
      "cell_type": "code",
      "execution_count": null,
      "metadata": {
        "id": "P3MN8ddxAASZ"
      },
      "outputs": [],
      "source": [
        "no1 = train_X[train_y == 1, :, :]\n",
        "no0 = train_X[train_y == 0, :, :]"
      ]
    },
    {
      "cell_type": "markdown",
      "metadata": {
        "id": "ePXCs0qyCLpc"
      },
      "source": [
        "Let us visualize a few images here:"
      ]
    },
    {
      "cell_type": "code",
      "execution_count": null,
      "metadata": {
        "id": "BQeyZSh-Arpc"
      },
      "outputs": [],
      "source": [
        "fig, axs = plt.subplots(2, 5, figsize=(15, 5))\n",
        "\n",
        "for ii in range(5):\n",
        "    axs[0, ii].imshow(no0[ii, :, :])\n",
        "\n",
        "for ii in range(5):\n",
        "    axs[1, ii].imshow(no1[ii, :, :])\n",
        "plt.show()"
      ]
    },
    {
      "cell_type": "markdown",
      "metadata": {
        "id": "1g-Tg7EKDz96"
      },
      "source": [
        "Now, let us start with a simple feature: the sum of all pixels. Let's see how good this feature is."
      ]
    },
    {
      "cell_type": "code",
      "execution_count": null,
      "metadata": {
        "id": "I8SztDk7CyZc"
      },
      "outputs": [],
      "source": [
        "sum1 = np.sum(no1 > 0, (1, 2))  # threshold before adding up\n",
        "sum0 = np.sum(no0 > 0, (1, 2))"
      ]
    },
    {
      "cell_type": "markdown",
      "metadata": {
        "id": "8oW3XCOCE7Zv"
      },
      "source": [
        "Let us visualize how good this feature is: (X-axis is mean, y-axis is the digit)"
      ]
    },
    {
      "cell_type": "code",
      "execution_count": null,
      "metadata": {
        "id": "i8PIe8o_DPpU"
      },
      "outputs": [],
      "source": [
        "plt.hist(sum1, alpha=0.7)\n",
        "plt.hist(sum0, alpha=0.7)\n",
        "plt.show()"
      ]
    },
    {
      "cell_type": "markdown",
      "metadata": {
        "id": "7_hToEepFtl2"
      },
      "source": [
        "We can already see that this feature separates the two classes quite well.\n",
        "\n",
        "Let us look at another, more complicated feature. We will count the number black pixels that are surrounded on four sides by non-black pixels, or \"hole pixels\"."
      ]
    },
    {
      "cell_type": "code",
      "execution_count": null,
      "metadata": {
        "id": "HwEnlm6RFFej"
      },
      "outputs": [],
      "source": [
        "def cumArray(img):\n",
        "    img2 = img.copy()\n",
        "    for ii in range(1, img2.shape[1]):\n",
        "        img2[ii, :] = (\n",
        "            img2[ii, :] + img2[ii - 1, :]\n",
        "        )  # for every row, add up all the rows above it.\n",
        "    img2 = img2 > 0\n",
        "    return img2\n",
        "\n",
        "\n",
        "def getHolePixels(img):\n",
        "    im1 = cumArray(img)\n",
        "    im2 = np.rot90(\n",
        "        cumArray(np.rot90(img)), 3\n",
        "    )  # rotate and cumulate it again for differnt direction\n",
        "    im3 = np.rot90(cumArray(np.rot90(img, 2)), 2)\n",
        "    im4 = np.rot90(cumArray(np.rot90(img, 3)), 1)\n",
        "    hull = (\n",
        "        im1 & im2 & im3 & im4\n",
        "    )  # this will create a binary image with all the holes filled in.\n",
        "    # remove the original digit to leave behind the holes\n",
        "    hole = hull & ~(img > 0)\n",
        "    return hole"
      ]
    },
    {
      "cell_type": "markdown",
      "metadata": {
        "id": "iw3HjgnupUEI"
      },
      "source": [
        "Visualize a few. First row has the original zero number images and the second row has the hole pixels. Thrid row has original one number images and the last row has corresponding hole pixels which are non-existent, as expected."
      ]
    },
    {
      "cell_type": "code",
      "source": [
        "img_ids = [12, 236, 345, 435, 512]\n",
        "fig, axs = plt.subplots(4, 5, figsize=(15, 10))\n",
        "\n",
        "for ii, idx in enumerate(img_ids):\n",
        "    axs[0, ii].imshow(no0[idx, :, :])\n",
        "    axs[1, ii].imshow(getHolePixels(no0[idx, :, :]))\n",
        "    axs[2, ii].imshow(no1[idx, :, :])\n",
        "    axs[3, ii].imshow(getHolePixels(no1[idx, :, :]))"
      ],
      "metadata": {
        "id": "Ajzx6dkTwPst"
      },
      "execution_count": null,
      "outputs": []
    },
    {
      "cell_type": "markdown",
      "metadata": {
        "id": "vS-4erNXtxMi"
      },
      "source": [
        "Now let us plot the number of hole pixels and see how this feature behaves"
      ]
    },
    {
      "cell_type": "code",
      "execution_count": null,
      "metadata": {
        "id": "Dpm1dRgsety8"
      },
      "outputs": [],
      "source": [
        "hole1 = np.array([getHolePixels(i).sum() for i in no1])\n",
        "hole0 = np.array([getHolePixels(i).sum() for i in no0])\n",
        "\n",
        "plt.hist(hole1, alpha=0.7)\n",
        "plt.hist(hole0, alpha=0.7)"
      ]
    },
    {
      "cell_type": "markdown",
      "metadata": {
        "id": "8UjCBHpJ31yq"
      },
      "source": [
        "This feature works even better to distinguish between one and zero.\n",
        "\n",
        "\n",
        "Now let us try the number of pixels in the 'hull' or the number with the holes filled in:"
      ]
    },
    {
      "cell_type": "code",
      "execution_count": null,
      "metadata": {
        "id": "vPtJ8eqolAOf"
      },
      "outputs": [],
      "source": [
        "def getHullPixels(img):\n",
        "    im1 = cumArray(img)\n",
        "    im2 = np.rot90(\n",
        "        cumArray(np.rot90(img)), 3\n",
        "    )  # rotate and cumulate it again for differnt direction\n",
        "    im3 = np.rot90(cumArray(np.rot90(img, 2)), 2)\n",
        "    im4 = np.rot90(cumArray(np.rot90(img, 3)), 1)\n",
        "    hull = (\n",
        "        im1 & im2 & im3 & im4\n",
        "    )  # this will create a binary image with all the holes filled in.\n",
        "    return hull"
      ]
    },
    {
      "cell_type": "code",
      "source": [
        "img_ids = [12, 236, 345, 435, 512]\n",
        "fig, axs = plt.subplots(4, 5, figsize=(15, 10))\n",
        "\n",
        "for ii, idx in enumerate(img_ids):\n",
        "    axs[0, ii].imshow(no0[idx, :, :])\n",
        "    axs[1, ii].imshow(getHullPixels(no0[idx, :, :]))\n",
        "    axs[2, ii].imshow(no1[idx, :, :])\n",
        "    axs[3, ii].imshow(getHullPixels(no1[idx, :, :]))"
      ],
      "metadata": {
        "id": "3fnBK7ImxtY2"
      },
      "execution_count": null,
      "outputs": []
    },
    {
      "cell_type": "markdown",
      "metadata": {
        "id": "M5rHal_HRWnE"
      },
      "source": [
        "Plotting the number of hull pixels versus the digit:"
      ]
    },
    {
      "cell_type": "code",
      "execution_count": null,
      "metadata": {
        "id": "WTLzYZLTRQ_p"
      },
      "outputs": [],
      "source": [
        "hull1 = np.array([getHullPixels(i).sum() for i in no1])\n",
        "hull0 = np.array([getHullPixels(i).sum() for i in no0])\n",
        "\n",
        "plt.hist(hull1, alpha=0.7)\n",
        "plt.hist(hull0, alpha=0.7)"
      ]
    },
    {
      "cell_type": "markdown",
      "metadata": {
        "id": "OSzH26ElXNri"
      },
      "source": [
        "Let us try one more feature, where we look at the number of boundary pixels in each image."
      ]
    },
    {
      "cell_type": "code",
      "execution_count": null,
      "metadata": {
        "id": "h-2czBypXMwT"
      },
      "outputs": [],
      "source": [
        "def minus(a, b):\n",
        "    return a & ~b\n",
        "\n",
        "\n",
        "def getBoundaryPixels(img):\n",
        "    img = img.copy() > 0  # binarize the image\n",
        "    rshift = np.roll(img, 1, 1)\n",
        "    lshift = np.roll(img, -1, 1)\n",
        "    ushift = np.roll(img, -1, 0)\n",
        "    dshift = np.roll(img, 1, 0)\n",
        "    boundary = (\n",
        "        minus(img, rshift)\n",
        "        | minus(img, lshift)\n",
        "        | minus(img, ushift)\n",
        "        | minus(img, dshift)\n",
        "    )\n",
        "    return boundary"
      ]
    },
    {
      "cell_type": "code",
      "source": [
        "img_ids = [12, 236, 345, 435, 512]\n",
        "fig, axs = plt.subplots(4, 5, figsize=(15, 10))\n",
        "\n",
        "for ii, idx in enumerate(img_ids):\n",
        "    axs[0, ii].imshow(no0[idx, :, :])\n",
        "    axs[1, ii].imshow(getBoundaryPixels(no0[idx, :, :]))\n",
        "    axs[2, ii].imshow(no1[idx, :, :])\n",
        "    axs[3, ii].imshow(getBoundaryPixels(no1[idx, :, :]))"
      ],
      "metadata": {
        "id": "kUOHZViDx5-z"
      },
      "execution_count": null,
      "outputs": []
    },
    {
      "cell_type": "code",
      "execution_count": null,
      "metadata": {
        "id": "kSsxsbCNXcNh"
      },
      "outputs": [],
      "source": [
        "bound1 = np.array([getBoundaryPixels(i).sum() for i in no1])\n",
        "bound0 = np.array([getBoundaryPixels(i).sum() for i in no0])\n",
        "\n",
        "plt.hist(bound1, alpha=0.7)\n",
        "plt.hist(bound0, alpha=0.7)"
      ]
    },
    {
      "cell_type": "markdown",
      "metadata": {
        "id": "WuP04Ao_R0Yz"
      },
      "source": [
        "What will happen if we plot two features together?"
      ]
    },
    {
      "cell_type": "code",
      "execution_count": null,
      "metadata": {
        "id": "kl7xWg-WRkAy"
      },
      "outputs": [],
      "source": [
        "fig, axs = plt.subplots(1, 3, figsize=(20, 5))\n",
        "\n",
        "axs[0].scatter(sum0, hull0, alpha=0.1)\n",
        "axs[0].scatter(sum1, hull1, alpha=0.1)\n",
        "axs[0].set_xlabel(\"Sum\")\n",
        "axs[0].set_ylabel(\"Hull\")\n",
        "axs[0].legend([\"0\", \"1\"])\n",
        "\n",
        "axs[1].scatter(sum0, hole0, alpha=0.1)\n",
        "axs[1].scatter(sum1, hole1, alpha=0.1)\n",
        "axs[1].set_xlabel(\"Sum\")\n",
        "axs[1].set_ylabel(\"Hole\")\n",
        "axs[1].legend([\"0\", \"1\"])\n",
        "\n",
        "axs[2].scatter(bound0, hole0, alpha=0.1)\n",
        "axs[2].scatter(bound1, hole1, alpha=0.1)\n",
        "axs[2].set_xlabel(\"Boundary\")\n",
        "axs[2].set_ylabel(\"Hole\")\n",
        "axs[2].legend([\"0\", \"1\"])\n",
        "plt.show()"
      ]
    },
    {
      "cell_type": "markdown",
      "metadata": {
        "id": "0JYLmKNFSIT-"
      },
      "source": [
        "Now let us try plotting 3 features together."
      ]
    },
    {
      "cell_type": "code",
      "execution_count": null,
      "metadata": {
        "id": "lOKEHIXFaWp_"
      },
      "outputs": [],
      "source": [
        "cl1 = [\"class 1\"] * len(sum1)\n",
        "cl0 = [\"class 0\"] * len(sum0)\n",
        "df = pd.DataFrame(\n",
        "    list(\n",
        "        zip(\n",
        "            np.concatenate((hole0, hole0)),\n",
        "            np.concatenate((sum1, sum0)),\n",
        "            np.concatenate((bound1, bound0)),\n",
        "            np.concatenate((cl1, cl0)),\n",
        "        )\n",
        "    ),\n",
        "    columns=[\"Hole\", \"Sum\", \"Boundary\", \"Class\"],\n",
        ")\n",
        "df.head()\n",
        "fig = px.scatter_3d(df, x=\"Hole\", y=\"Sum\", z=\"Boundary\",\n",
        "                    color=\"Class\", opacity=0.1)\n",
        "fig.show()"
      ]
    },
    {
      "cell_type": "markdown",
      "metadata": {
        "id": "paDGHlFSd5Fu"
      },
      "source": [
        "Feel free to explore the above graph with your mouse.\n",
        "\n",
        "\n",
        "We extracted four features from a 28*28 dimensional image.\n",
        "\n",
        "\n",
        "Some qLluestions to explore:\n",
        "1. Which is the best combination of features?\n",
        "The best combination of features depends on the context, such as what you're referring to (a product, software, service, or something else) and your specific needs or goals. Could you provide more details about the features or area you're asking about? For example:\n",
        "\n",
        "Are you talking about a smartphone, laptop, or other gadget?\n",
        "\n",
        "Are you evaluating software features (e.g., productivity tools, AI capabilities)?\n",
        "\n",
        "Are you comparing lifestyle or fitness features?\n",
        "\n",
        "\n",
        "Let me know, and I'll tailor my response accordingly!\n",
        "\n",
        "\n",
        "2. How would you test or visualize four or more features?\n",
        "Testing or visualizing four or more features effectively often requires structured approaches. Here are some common methods based on the type of features and purpose:\n",
        "\n",
        "\n",
        "---\n",
        "\n",
        "1. Testing Features\n",
        "\n",
        "a) Create a Test Matrix\n",
        "\n",
        "List features in rows and test scenarios/criteria in columns.\n",
        "\n",
        "Evaluate each feature against criteria (e.g., performance, usability, accuracy) using scales like \"Pass/Fail\" or \"1-5 rating.\"\n",
        "\n",
        "Example:\n",
        "\n",
        "\n",
        "b) A/B Testing\n",
        "\n",
        "Test feature combinations on subsets of users.\n",
        "\n",
        "Gather feedback or data on performance to determine the optimal combination.\n",
        "\n",
        "\n",
        "c) Simulations/Scenarios\n",
        "\n",
        "Simulate real-world use cases and analyze how features interact.\n",
        "\n",
        "Example: In a car, test cruise control, lane assist, emergency braking, and collision avoidance simultaneously in a driving simulator.\n",
        "\n",
        "\n",
        "d) User Feedback & Surveys\n",
        "\n",
        "Conduct usability tests where users rank feature importance and satisfaction.\n",
        "\n",
        "\n",
        "\n",
        "---\n",
        "\n",
        "2. Visualizing Features\n",
        "\n",
        "a) Feature Comparison Chart\n",
        "\n",
        "Use bar charts, radar charts, or bubble charts to show how features perform relative to each other.\n",
        "\n",
        "Radar Chart Example:\n",
        "\n",
        "Plot each feature along axes (e.g., speed, cost, quality, innovation).\n",
        "\n",
        "\n",
        "\n",
        "b) Matrix or Heatmap\n",
        "\n",
        "Color-coded grids help show which features are strong or weak across different criteria.\n",
        "\n",
        "Example: |           | Feature 1 | Feature 2 | Feature 3 | Feature 4 | |-----------|-----------|-----------|-----------|-----------| | Speed     | High      | Medium    | Low       | High      | | Cost      | Low       | High      | Medium    | Low       | | Usability | Medium    | High      | High      | Medium    |\n",
        "\n",
        "\n",
        "c) Decision Tree or Flow Diagram\n",
        "\n",
        "Visualize how features influence outcomes.\n",
        "\n",
        "Example: If you’re selecting a product with four features, create a decision flow to show trade-offs.\n",
        "\n",
        "\n",
        "d) Venn Diagram\n",
        "\n",
        "Show overlapping features or interdependencies.\n",
        "\n",
        "\n",
        "e) Interactive Dashboards\n",
        "\n",
        "Use tools like Tableau or Power BI to create dynamic charts that compare features visually based on input criteria.\n",
        "\n",
        "\n",
        "\n",
        "---\n",
        "\n",
        "Example: Choosing a Smartphone with 4+ Features\n",
        "\n",
        "You might evaluate camera quality, battery life, design, and software like this:\n",
        "\n",
        "1. Test each feature with structured tests (e.g., photo clarity, battery tests).\n",
        "\n",
        "\n",
        "2. Visualize the results using:\n",
        "\n",
        "A radar chart for feature performance.\n",
        "\n",
        "A bar chart for overall ratings.\n",
        "\n",
        "A comparison matrix for a detailed breakdown.\n",
        "\n",
        "\n",
        "\n",
        "\n",
        "Let me know if you’d like a more specific example tailored to your needs!\n",
        "\n",
        "\n",
        "3. Can you come up with your own features?\n",
        "Sure! Let’s create a set of features in different contexts, and I’ll test or visualize them in meaningful ways. Here are some examples:\n",
        "\n",
        "\n",
        "---\n",
        "\n",
        "1. Smartphone Features\n",
        "\n",
        "Display Quality: Resolution, refresh rate, brightness.\n",
        "\n",
        "Battery Life: Hours of use, fast-charging capability.\n",
        "\n",
        "Camera Performance: Low-light capability, zoom, video stabilization.\n",
        "\n",
        "Software Ecosystem: Updates, app compatibility, customization.\n",
        "\n",
        "\n",
        "\n",
        "---\n",
        "\n",
        "2. Software Features (e.g., Productivity App)\n",
        "\n",
        "Ease of Use: Simple interface, onboarding process.\n",
        "\n",
        "Collaboration Tools: Team sharing, live editing, comments.\n",
        "\n",
        "Customization: Themes, widgets, personal dashboards.\n",
        "\n",
        "Automation: Integration with third-party apps, task automation.\n",
        "\n",
        "\n",
        "\n",
        "---\n",
        "\n",
        "3. Electric Vehicle Features\n",
        "\n",
        "Range: Miles per charge.\n",
        "\n",
        "Charging Time: Fast-charging capabilities.\n",
        "\n",
        "Driver Assistance: Lane-keeping, adaptive cruise control, auto-parking.\n",
        "\n",
        "Sustainability: Recyclable materials, environmental impact.\n",
        "\n",
        "\n",
        "\n",
        "---\n",
        "\n",
        "4. Gaming Console Features\n",
        "\n",
        "Graphics Performance: Frame rates, ray tracing.\n",
        "\n",
        "Game Library: Availability of exclusive titles.\n",
        "\n",
        "Online Services: Multiplayer, cloud saves, subscription benefits.\n",
        "\n",
        "Controller Innovation: Ergonomics, haptic feedback, battery life.\n",
        "\n",
        "\n",
        "\n",
        "---\n",
        "\n",
        "Example: Testing/Visualizing Features\n",
        "\n",
        "Let’s use Electric Vehicle Features as a case study:\n",
        "\n",
        "Testing Example:\n",
        "\n",
        "1. Range: Test the miles on a full charge under different conditions (city vs. highway).\n",
        "\n",
        "\n",
        "2. Charging Time: Measure time to reach 80% charge at a fast charger.\n",
        "\n",
        "\n",
        "3. Driver Assistance: Evaluate the accuracy and safety of features in controlled driving scenarios.\n",
        "\n",
        "\n",
        "4. Sustainability: Assess materials and carbon footprint.\n",
        "\n",
        "\n",
        "\n",
        "Visualization Example:\n",
        "\n",
        "Radar Chart:\n",
        "\n",
        "Axes: Range, Charging Time, Driver Assistance, Sustainability.\n",
        "\n",
        "Plot multiple EV models to see which one performs best overall.\n",
        "\n",
        "\n",
        "Comparison Table: | Feature           | EV Model A | EV Model B | EV Model C | |-------------------|------------|------------|------------| | Range (miles)     | 300        | 250        | 350        | | Charging Time     | 30 min     | 40 min     | 25 min     | | Driver Assistance | 4/5        | 3/5        | 5/5        | | Sustainability    | High       | Medium     | High       |\n",
        "\n",
        "\n",
        "Would you like me to expand on one of these, or focus on a different context entirely?\n",
        "Sure! Let’s create a set of features in different contexts, and I’ll test or visualize them in meaningful ways. Here are some examples:\n",
        "\n",
        "\n",
        "---\n",
        "\n",
        "1. Smartphone Features\n",
        "\n",
        "Display Quality: Resolution, refresh rate, brightness.\n",
        "\n",
        "Battery Life: Hours of use, fast-charging capability.\n",
        "\n",
        "Camera Performance: Low-light capability, zoom, video stabilization.\n",
        "\n",
        "Software Ecosystem: Updates, app compatibility, customization.\n",
        "\n",
        "\n",
        "\n",
        "---\n",
        "\n",
        "2. Software Features (e.g., Productivity App)\n",
        "\n",
        "Ease of Use: Simple interface, onboarding process.\n",
        "\n",
        "Collaboration Tools: Team sharing, live editing, comments.\n",
        "\n",
        "Customization: Themes, widgets, personal dashboards.\n",
        "\n",
        "Automation: Integration with third-party apps, task automation.\n",
        "\n",
        "\n",
        "\n",
        "---\n",
        "\n",
        "3. Electric Vehicle Features\n",
        "\n",
        "Range: Miles per charge.\n",
        "\n",
        "Charging Time: Fast-charging capabilities.\n",
        "\n",
        "Driver Assistance: Lane-keeping, adaptive cruise control, auto-parking.\n",
        "\n",
        "Sustainability: Recyclable materials, environmental impact.\n",
        "\n",
        "\n",
        "\n",
        "---\n",
        "\n",
        "4. Gaming Console Features\n",
        "\n",
        "Graphics Performance: Frame rates, ray tracing.\n",
        "\n",
        "Game Library: Availability of exclusive titles.\n",
        "\n",
        "Online Services: Multiplayer, cloud saves, subscription benefits.\n",
        "\n",
        "Controller Innovation: Ergonomics, haptic feedback, battery life.\n",
        "\n",
        "\n",
        "\n",
        "---\n",
        "\n",
        "Example: Testing/Visualizing Features\n",
        "\n",
        "Let’s use Electric Vehicle Features as a case study:\n",
        "\n",
        "Testing Example:\n",
        "\n",
        "1. Range: Test the miles on a full charge under different conditions (city vs. highway).\n",
        "\n",
        "\n",
        "2. Charging Time: Measure time to reach 80% charge at a fast charger.\n",
        "\n",
        "\n",
        "3. Driver Assistance: Evaluate the accuracy and safety of features in controlled driving scenarios.\n",
        "\n",
        "\n",
        "4. Sustainability: Assess materials and carbon footprint.\n",
        "\n",
        "\n",
        "\n",
        "Visualization Example:\n",
        "\n",
        "Radar Chart:\n",
        "\n",
        "Axes: Range, Charging Time, Driver Assistance, Sustainability.\n",
        "\n",
        "Plot multiple EV models to see which one performs best overall.\n",
        "\n",
        "\n",
        "Comparison Table: | Feature           | EV Model A | EV Model B | EV Model C | |-------------------|------------|------------|------------| | Range (miles)     | 300        | 250        | 350        | | Charging Time     | 30 min     | 40 min     | 25 min     | | Driver Assistance | 4/5        | 3/5        | 5/5        | | Sustainability    | High       | Medium     | High       |\n",
        "\n",
        "\n",
        "Would you like me to expand on one of these, or focus on a different context entirely?\n",
        "\n",
        "\n",
        "\n",
        "4. Will these features work for different classes other than 0 and 1?\n",
        "Yes, these features can work for classes other than 0 and 1. While binary classes (0 and 1) often represent simple decisions (e.g., pass/fail, yes/no), these features can be tested, analyzed, and applied in multi-class or continuous contexts as well. Here’s how they adapt:\n",
        "\n",
        "\n",
        "---\n",
        "\n",
        "1. For Multi-Class Contexts\n",
        "\n",
        "Multi-class scenarios involve three or more classes. For example:\n",
        "\n",
        "Smartphone Features: Classes could be \"Budget,\" \"Mid-Range,\" and \"Premium.\"\n",
        "\n",
        "Electric Vehicle Features: Classes could be \"Compact EVs,\" \"SUV EVs,\" and \"Luxury EVs.\"\n",
        "\n",
        "Gaming Consoles: Classes could be \"Portable,\" \"Mid-tier,\" and \"High-end.\"\n",
        "\n",
        "\n",
        "Application:\n",
        "\n",
        "Feature Metrics: Adjust feature measurement to accommodate multi-class differentiation. For instance:\n",
        "\n",
        "Battery Life for smartphones could be scored in tiers: Short (Class 0), Medium (Class 1), Long (Class 2).\n",
        "\n",
        "Driver Assistance for EVs could vary across basic systems (Class 0), advanced systems (Class 1), and autonomous systems (Class 2).\n",
        "\n",
        "\n",
        "Visualization: Expand tools like radar charts or heatmaps to reflect multiple classes.\n",
        "\n",
        "\n",
        "\n",
        "---\n",
        "\n",
        "2. For Continuous or Scaled Data\n",
        "\n",
        "Instead of assigning discrete classes, features can be evaluated on a continuous scale. For example:\n",
        "\n",
        "Display Quality (Smartphones): Measure on a scale of 0-100 (resolution, brightness, etc.).\n",
        "\n",
        "Range (Electric Vehicles): Use actual miles as continuous data points.\n",
        "\n",
        "Graphics Performance (Gaming): Use frame rates (FPS) as a numerical feature.\n",
        "\n",
        "\n",
        "Application:\n",
        "\n",
        "Testing Example: Gather feature data as continuous values:\n",
        "\n",
        "Compare charging time (in minutes) across EV models.\n",
        "\n",
        "Evaluate camera performance using image quality scores.\n",
        "\n",
        "\n",
        "Visualization Example:\n",
        "\n",
        "Use scatterplots, line charts, or color-coded heatmaps to reflect gradual changes or patterns in feature performance.\n",
        "\n",
        "\n",
        "\n",
        "\n",
        "---\n",
        "\n",
        "3. Feature Adaptation Across Contexts\n",
        "\n",
        "Some features work universally across different classes. For example:\n",
        "\n",
        "Ease of Use in software can be measured on a scale or by user feedback across multiple app categories (e.g., personal productivity vs. team collaboration).\n",
        "\n",
        "Sustainability in EVs can vary based on vehicle class and material use, but the core measurement of environmental impact remains valid.\n",
        "\n",
        "\n",
        "\n",
        "---\n",
        "\n",
        "Testing Across Multiple Classes\n",
        "\n",
        "Here’s how a feature like Battery Life might be tested across smartphone classes:\n",
        "\n",
        "Similarly, for Driver Assistance in EVs:\n",
        "\n",
        "\n",
        "---\n",
        "\n",
        "Final Note:\n",
        "\n",
        "These features are versatile and can be adapted to any number of classes or continuous contexts. The key is defining appropriate metrics and visualization tools to capture the nuances of multi-class or scaled data. Let me know if you’d like to explore specific examples in greater depth!\n",
        "\n",
        "\n",
        "5. What will happen if we take more that two classes at a time?\n",
        "If you take more than two classes at a time (e.g., multi-class classification or multi-level analysis), the complexity increases, but it can provide richer insights. Here's how handling multi-class data differs and what challenges or changes might arise:\n",
        "\n",
        "\n",
        "---\n",
        "\n",
        "1. Key Differences in Multi-Class Handling\n",
        "\n",
        "Classification Context:\n",
        "\n",
        "Binary classification (two classes: 0 and 1) deals with simple \"this or that\" decisions.\n",
        "\n",
        "Multi-class classification involves predicting one of three or more possible outcomes (e.g., Class 0, Class 1, Class 2).\n",
        "\n",
        "Example: Identifying a vehicle as Compact (Class 0), SUV (Class 1), or Luxury (Class 2).\n",
        "\n",
        "\n",
        "Continuous Context: Features may vary across a range of values (e.g., battery life in hours or software speed in seconds).\n",
        "\n",
        "\n",
        "\n",
        "---\n",
        "\n",
        "2. What Will Happen?\n",
        "\n",
        "a) Increase in Complexity\n",
        "\n",
        "Feature Importance: Features may impact each class differently. For instance:\n",
        "\n",
        "For a Compact EV, range might be less important than affordability.\n",
        "\n",
        "For a Luxury EV, driver assistance and design might matter most.\n",
        "\n",
        "\n",
        "Visualization: You’ll need more sophisticated tools (e.g., 3D plots, confusion matrices) to show results clearly.\n",
        "\n",
        "\n",
        "b) Changes in Evaluation Metrics\n",
        "\n",
        "With binary classes, metrics like accuracy or F1 score are straightforward.\n",
        "\n",
        "For multi-class data:"
      ]
    },
    {
      "cell_type": "markdown",
      "source": [
        "> Exercise: Remember we took a subset of only the first two numbers in MNIST? Include 5 or more numbers now and try to visualise which feature works best when multiple numbers are involved. Brownie points if you use all numbers :)"
      ],
      "metadata": {
        "id": "vHE2yqmpzOXs"
      }
    }
  ],
  "metadata": {
    "colab": {
      "provenance": [],
      "include_colab_link": true
    },
    "kernelspec": {
      "display_name": "Python 3",
      "name": "python3"
    },
    "language_info": {
      "codemirror_mode": {
        "name": "ipython",
        "version": 3
      },
      "file_extension": ".py",
      "mimetype": "text/x-python",
      "name": "python",
      "nbconvert_exporter": "python",
      "pygments_lexer": "ipython3",
      "version": "3.10.10"
    }
  },
  "nbformat": 4,
  "nbformat_minor": 0
}